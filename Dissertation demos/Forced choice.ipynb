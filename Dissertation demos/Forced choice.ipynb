{
 "cells": [
  {
   "cell_type": "markdown",
   "id": "b3a67b9d",
   "metadata": {},
   "source": [
    "# Simulating forced choice tasks in ExemPy\n",
    "\n",
    "ExemPy is built to simulate the types of tasks that are often used in speech perception experiments. This allows to more directly compare simulated results with behavior.\n",
    "\n",
    "In ExemPy-Basics, we simulated an identifcation task, in which the \"perceiver\" provides a label from multiple options. This allowed us to produce a confusion matrix. \n",
    "\n",
    "Simulating a two-alternative forced choice (2AFC) task allows us to produce the type of plot often used to demonstrate categorical perception. \n",
    "\n",
    "In this section we'll\n",
    "1. Create a continuum interpolated from one vowel to another\n",
    "2. Categorize that continuum\n",
    "3. Introduce considerations for simulating forced choice\n",
    "4. Visualize forced choice results\n",
    "5. Repeat the process with additional continua\n",
    "6. Analyze the graph"
   ]
  },
  {
   "cell_type": "code",
   "execution_count": 16,
   "id": "6ead4c1d",
   "metadata": {},
   "outputs": [
    {
     "name": "stdout",
     "output_type": "stream",
     "text": [
      "The autoreload extension is already loaded. To reload it, use:\n",
      "  %reload_ext autoreload\n"
     ]
    }
   ],
   "source": [
    "%load_ext autoreload\n",
    "from ExemPy import *\n",
    "from ExemPy.utils import *\n",
    "from ExemPy.viz import *\n",
    "from ExemPy.GCM import *\n",
    "%aimport ExemPy, ExemPy.utils, ExemPy.viz, ExemPy.GCM\n",
    "%autoreload 1\n",
    "import math\n",
    "import random\n",
    "import matplotlib.pyplot as plt\n",
    "#%matplotlib inline\n",
    "import numpy as np\n",
    "import pandas as pd\n",
    "from pandas import DataFrame\n",
    "from scipy.optimize import minimize\n",
    "import seaborn as sns\n",
    "sns.set(style='ticks', context='paper')\n",
    "colors=[\"#e3c934\",\"#68c4bf\",\"#c51000\",\"#287271\"]\n",
    "sns.set_palette(colors)"
   ]
  },
  {
   "cell_type": "markdown",
   "id": "f997ab00",
   "metadata": {},
   "source": [
    "## Set up data\n",
    "- Read in Peterson and Barney 1952\n",
    "- Convert Hz to Bark\n",
    "- Preview pb52\n",
    "- Set parameters for preliminary categorization"
   ]
  },
  {
   "cell_type": "code",
   "execution_count": 17,
   "id": "5cc0eeed",
   "metadata": {},
   "outputs": [],
   "source": [
    "pb52 = pd.read_csv('pb52_data//pb52.csv')\n",
    "pb52 = HzToBark(pb52,[\"F0\", \"F1\", \"F2\", \"F3\"])\n",
    "excloud = pb52.copy()"
   ]
  },
  {
   "cell_type": "code",
   "execution_count": 18,
   "id": "487a9019",
   "metadata": {},
   "outputs": [],
   "source": [
    "dimsvals = {'z0' : 1,\n",
    "            'z1' : .761,\n",
    "            'z2' : .681,\n",
    "            'z3' : .407}\n",
    "dimslist = list(dimsvals.keys())\n",
    "catslist = ['type', 'vowel']           # man, woman, or child; lexical set notation\n",
    "cval = 25"
   ]
  },
  {
   "cell_type": "markdown",
   "id": "b06f3aa4",
   "metadata": {},
   "source": [
    "## Create type m continuum"
   ]
  },
  {
   "cell_type": "markdown",
   "id": "c37fc9ac",
   "metadata": {},
   "source": [
    "### Get mean dimensions for each type x vowel combination"
   ]
  },
  {
   "cell_type": "code",
   "execution_count": 19,
   "id": "5620a286",
   "metadata": {},
   "outputs": [
    {
     "name": "stdout",
     "output_type": "stream",
     "text": [
      "Type 'm' formant averages (Bark) by vowel:\n",
      "   type    vowel        z0        z1         z2         z3\n",
      "10    m    DRESS  1.116743  5.132435  12.491891  14.438514\n",
      "11    m   FLEECE  1.207534  2.674882  13.914472  15.535502\n",
      "12    m     FOOT  1.208595  4.347787   8.636553  13.766756\n",
      "13    m    GOOSE  1.247804  3.093098   7.695949  13.727507\n",
      "14    m      KIT  1.204788  3.931608  12.975164  14.668190\n",
      "15    m    NURSE  1.168517  4.807455  10.439210  11.939155\n",
      "16    m     PALM  1.061577  6.653223   9.038935  14.315383\n",
      "17    m    STRUT  1.118489  5.989758   9.588147  14.146945\n",
      "18    m  THOUGHT  1.100155  5.484137   7.457763  14.207406\n",
      "19    m     TRAP  1.073975  6.240755  12.013320  14.270487\n"
     ]
    }
   ],
   "source": [
    "datasumm = datasummary(pb52, catslist, dimslist)\n",
    "print(\"Type 'm' formant averages (Bark) by vowel:\")\n",
    "print(datasumm[datasumm[\"type\"] == \"m\"])"
   ]
  },
  {
   "cell_type": "markdown",
   "id": "70fac1fc",
   "metadata": {},
   "source": [
    "### Create a FOOT-STRUT continuum using m values"
   ]
  },
  {
   "cell_type": "code",
   "execution_count": 20,
   "id": "a2256ca0",
   "metadata": {},
   "outputs": [
    {
     "name": "stdout",
     "output_type": "stream",
     "text": [
      "Start:  index           12\n",
      "type             m\n",
      "vowel         FOOT\n",
      "z0        1.208595\n",
      "z1        4.347787\n",
      "z2        8.636553\n",
      "z3       13.766756\n",
      "Name: 0, dtype: object\n",
      "End:  index           17\n",
      "type             m\n",
      "vowel        STRUT\n",
      "z0        1.118489\n",
      "z1        5.989758\n",
      "z2        9.588147\n",
      "z3       14.146945\n",
      "Name: 0, dtype: object\n",
      "   step        z0        z1        z2         z3\n",
      "0     1  1.208595  4.347787  8.636553  13.766756\n",
      "1     2  1.193577  4.621449  8.795152  13.830121\n",
      "2     3  1.178560  4.895111  8.953751  13.893486\n",
      "3     4  1.163542  5.168773  9.112350  13.956851\n",
      "4     5  1.148524  5.442435  9.270949  14.020215\n",
      "5     6  1.133507  5.716097  9.429548  14.083580\n",
      "6     7  1.118489  5.989758  9.588147  14.146945\n"
     ]
    }
   ],
   "source": [
    "start = {\"type\" : \"m\", \"vowel\" : \"FOOT\"}      # Step 1\n",
    "end = {\"type\" : \"m\", \"vowel\" : \"STRUT\"}      # Step n\n",
    "steps = 7      # Number of steps in continuum\n",
    "\n",
    "mcont = continuum(datasumm,      # dataframe for starting values\n",
    "                 start, \n",
    "                 end, \n",
    "                 dimslist, \n",
    "                 steps, \n",
    "                 stimdetails = True      # Print details of the endpoints\n",
    "                ) \n",
    "print(mcont)"
   ]
  },
  {
   "cell_type": "markdown",
   "id": "1d47db68",
   "metadata": {},
   "source": [
    "## What does forced choice mean for perception?\n",
    "\n",
    "During a forced choice task, an experiment participant is, well, forced to choose between two options. Often, these choices are two clear endpoints of an interpolated continuum like the one we just created. \n",
    "\n",
    "But what does it mean for a perceiver to know that they'll have to pick between two choices?\n",
    "\n",
    "At this time, I identify three, non mutually exclusive vectors for modelling the \"side effects\" of a forced choice task. These occur at two different levels: the level of perception and the level of deciding how to respond. \n",
    "\n",
    "My thinking about this dinstinction is heavily influenced by Zheng and Samuel's (2017) problematization of *perception* vs *interpretation*. I need to re-read the paper to decide/interpret whether I'm using the word decision is a different way than they use interpretation. To be honest, I definitely thought they had said \"decide\" until I looked up the citation. It almost feels like a \"below vs above the level of consciousness\" situation.\n",
    "\n",
    "**1. At the level of perception** (implemented during the `activation()` function)\n",
    "- Base activation *N*: The expectation within the experiment is that the percept will be one of two options. Activation may be raised for the alternatives and quashed for would-be competitors in a straightforward example of priming.\n",
    "- Attention weights *w*: \n",
    "\n",
    "**2. At the level of decision** (implemented during the `choose()` function)\n",
    "- Rather than choosing the label with the highest probability overall, the 'perceiver' chooses the alternative with the higher probability of the two\n",
    "\n",
    "The argument `fc = {<category type> : [<label>, <label>, ...]}` implements forced choice at the level of decision. Probabilities for the category type given are calculated as usual, but the choices are restricted to the options given. \n",
    "\n",
    "It's tempting to see the `activation()` function as 'perception' and the `choose()` function as interpretation. At every step, I think we should be explicit about the following: Something making the implementation possible, or being possible in the implementation, does not imply the analog in language users' perception or interpretation.   "
   ]
  },
  {
   "cell_type": "markdown",
   "id": "57972d0b",
   "metadata": {},
   "source": [
    "## Categorize continuum with respect to pb52 \n",
    "\n"
   ]
  },
  {
   "cell_type": "code",
   "execution_count": 21,
   "id": "fadf82a2",
   "metadata": {},
   "outputs": [],
   "source": [
    "terms = {\"vowel\" : [\"FOOT\", \"STRUT\"]}"
   ]
  },
  {
   "cell_type": "code",
   "execution_count": 22,
   "id": "a2fbfcd5",
   "metadata": {},
   "outputs": [
    {
     "name": "stdout",
     "output_type": "stream",
     "text": [
      "   step        z0        z1        z2         z3 typeChoice  typeProb  \\\n",
      "0     1  1.208595  4.347787  8.636553  13.766756          m  0.998427   \n",
      "1     2  1.193577  4.621449  8.795152  13.830121          m  0.998456   \n",
      "2     3  1.178560  4.895111  8.953751  13.893486          m  0.998329   \n",
      "3     4  1.163542  5.168773  9.112350  13.956851          m  0.995452   \n",
      "4     5  1.148524  5.442435  9.270949  14.020215          m  0.998454   \n",
      "5     6  1.133507  5.716097  9.429548  14.083580          m  0.999070   \n",
      "6     7  1.118489  5.989758  9.588147  14.146945          m  0.999296   \n",
      "\n",
      "  vowelChoice  vowelProb  \n",
      "0        FOOT   0.975880  \n",
      "1        FOOT   0.994435  \n",
      "2        FOOT   0.972424  \n",
      "3       STRUT   0.555092  \n",
      "4       STRUT   0.978905  \n",
      "5       STRUT   0.976005  \n",
      "6       STRUT   0.943317  \n"
     ]
    }
   ],
   "source": [
    "choices_mcont = multicat(\n",
    "    mcont,\n",
    "    excloud,\n",
    "    catslist,\n",
    "    dimsvals,\n",
    "    cval,\n",
    "    exclude_self = True,\n",
    "    N = 1,\n",
    "    fc = terms)\n",
    "print(choices_mcont)"
   ]
  },
  {
   "cell_type": "markdown",
   "id": "bf971448",
   "metadata": {},
   "source": [
    "### Categorical perception plot\n",
    "\n",
    "The plot below shows the results of our simulated 2AFC identification task. On the X-axis is the continuum from FOOT (step 1) to STRUT (step 7). On the Y-axis is the probability of categorization as FOOT (rather than STRUT), which is taken as analagous to the proportion of FOOT responses in an experiment. \n",
    "\n",
    "A dotted line is printed at 0.5, or roughly chance. Above this line, \"FOOT\" is a more likely response than \"STRUT\". We can consider the point along the continuum at which the curve crosses this line as the boundary between \"FOOT\" and \"STRUT\"."
   ]
  },
  {
   "cell_type": "code",
   "execution_count": 23,
   "id": "5a717502",
   "metadata": {},
   "outputs": [
    {
     "data": {
      "image/png": "[encoded data removed]",
      "text/plain": [
       "<Figure size 432x288 with 1 Axes>"
      ]
     },
     "metadata": {},
     "output_type": "display_data"
    }
   ],
   "source": [
    "p = cpplot(datalist = choices_mcont,\n",
    "           cat = \"vowel\",\n",
    "           xax = \"step\",\n",
    "           datanames = [\"m averages\"]\n",
    "          )\n",
    "p.set(title = \"Results of simulated forced choice task\")\n",
    "plt.show()"
   ]
  },
  {
   "cell_type": "markdown",
   "id": "062942a4",
   "metadata": {},
   "source": [
    "## Repeat this process with average woman values\n",
    "\n",
    "Repeating the process with the average woman values demonstrates the need for care and transparency in how the \"forced choice\" aspect of the text is simulated. \n",
    "\n",
    "For the man continuum, the probability was always above 0.5. For the w values, this won't be the case."
   ]
  },
  {
   "cell_type": "code",
   "execution_count": 24,
   "id": "b8f4d0a7",
   "metadata": {},
   "outputs": [
    {
     "name": "stdout",
     "output_type": "stream",
     "text": [
      "   step       z0        z1         z2         z3 typeChoice  typeProb  \\\n",
      "0     1  2.32341  4.636707   9.405672  14.947067          w  0.958173   \n",
      "1     2  2.30292  5.019998   9.615083  14.981178          w  0.977810   \n",
      "2     3  2.28243  5.403288   9.824495  15.015290          w  0.980696   \n",
      "3     4  2.26194  5.786579  10.033906  15.049401          w  0.960333   \n",
      "4     5  2.24145  6.169870  10.243318  15.083513          w  0.961737   \n",
      "5     6  2.22096  6.553161  10.452729  15.117624          w  0.990411   \n",
      "6     7  2.20047  6.936452  10.662141  15.151736          w  0.983766   \n",
      "\n",
      "  vowelChoice  vowelProb  \n",
      "0        FOOT   0.974100  \n",
      "1        FOOT   0.992542  \n",
      "2        FOOT   0.607590  \n",
      "3        FOOT   0.280120  \n",
      "4       STRUT   0.767191  \n",
      "5       STRUT   0.994830  \n",
      "6       STRUT   0.994342  \n"
     ]
    }
   ],
   "source": [
    "start = {\"type\" : \"w\", \"vowel\" : \"FOOT\"}      # Step 1\n",
    "end = {\"type\" : \"w\", \"vowel\" : \"STRUT\"}      # Step n\n",
    "steps = 7      # Number of steps in continuum\n",
    "\n",
    "wcont = continuum(datasumm, start, end, dimslist, steps, stimdetails = False) \n",
    "\n",
    "choices_wcont = multicat(\n",
    "    wcont,\n",
    "    excloud,\n",
    "    catslist,\n",
    "    dimsvals,\n",
    "    cval,\n",
    "    exclude_self = True,\n",
    "    N = 1,\n",
    "    fc = terms)\n",
    "print(choices_wcont)"
   ]
  },
  {
   "cell_type": "markdown",
   "id": "d516f44f",
   "metadata": {},
   "source": [
    "At step 4, there is only a 0.28 probability that the vowel will be classified as FOOT. Although we expect to see uncertainty at the most ambiguous point along the continuum, this is an unusually low value for any winning category label.\n",
    "\n",
    "In fact, PALM, not FOOT, was the label with the highest probability. To see this, let's turn off the forced choice parameter with `fc = None` (or by simply not providing the argument). \n"
   ]
  },
  {
   "cell_type": "code",
   "execution_count": 25,
   "id": "e05669f8",
   "metadata": {},
   "outputs": [
    {
     "name": "stdout",
     "output_type": "stream",
     "text": [
      "   step       z0        z1         z2         z3 typeChoice  typeProb  \\\n",
      "0     1  2.32341  4.636707   9.405672  14.947067          w  0.958173   \n",
      "1     2  2.30292  5.019998   9.615083  14.981178          w  0.977810   \n",
      "2     3  2.28243  5.403288   9.824495  15.015290          w  0.980696   \n",
      "3     4  2.26194  5.786579  10.033906  15.049401          w  0.960333   \n",
      "4     5  2.24145  6.169870  10.243318  15.083513          w  0.961737   \n",
      "5     6  2.22096  6.553161  10.452729  15.117624          w  0.990411   \n",
      "6     7  2.20047  6.936452  10.662141  15.151736          w  0.983766   \n",
      "\n",
      "  vowelChoice  vowelProb  \n",
      "0        FOOT   0.974100  \n",
      "1        FOOT   0.992542  \n",
      "2        FOOT   0.607590  \n",
      "3        PALM   0.624499  \n",
      "4       STRUT   0.767191  \n",
      "5       STRUT   0.994830  \n",
      "6       STRUT   0.994342  \n"
     ]
    }
   ],
   "source": [
    "choices_wcont_2 = multicat(\n",
    "    wcont,\n",
    "    excloud,\n",
    "    catslist,\n",
    "    dimsvals,\n",
    "    cval,\n",
    "    exclude_self = True,\n",
    "    N = 1,\n",
    "    fc = None)      # Turn off the forced choice terms\n",
    "print(choices_wcont_2)"
   ]
  },
  {
   "cell_type": "code",
   "execution_count": 26,
   "id": "3c65adaf",
   "metadata": {},
   "outputs": [
    {
     "name": "stdout",
     "output_type": "stream",
     "text": [
      "----- Hey! -----\n",
      "Stimulus 4\n",
      "in dataset fc off\n",
      "was categorized as PALM\n",
      "with probability 0.62\n"
     ]
    },
    {
     "data": {
      "image/png": "[encoded data removed]",
      "text/plain": [
       "<Figure size 432x288 with 1 Axes>"
      ]
     },
     "metadata": {},
     "output_type": "display_data"
    }
   ],
   "source": [
    "p = cpplot([choices_wcont, choices_wcont_2],\n",
    "           \"vowel\",\n",
    "           xax = \"step\",\n",
    "           datanames = [\"fc on\", \"fc off\"])\n",
    "p.set(title = \"Results of simulated forced choice task\")\n",
    "plt.show()"
   ]
  },
  {
   "cell_type": "markdown",
   "id": "bc47aab3",
   "metadata": {},
   "source": [
    "## Repeat the process for all 3 types\n",
    "Next"
   ]
  },
  {
   "cell_type": "code",
   "execution_count": 27,
   "id": "3d2f8e07",
   "metadata": {},
   "outputs": [],
   "source": [
    "continuum_is = {\"vowel\" : [\"FOOT\", \"STRUT\"]}\n",
    "grouping = {\"type\" : [\"w\", \"c\", \"m\"]}\n",
    "steps = 7\n",
    "dimsvals = {'z0' : 1,\n",
    "            'z1' : .761,\n",
    "            'z2' : .681,\n",
    "            'z3' : .407}\n",
    "dimslist = list(dimsvals.keys())\n",
    "catslist = ['vowel']\n",
    "cval = 25\n",
    "excloud = pb52.copy()"
   ]
  },
  {
   "cell_type": "code",
   "execution_count": 28,
   "id": "b25d2754",
   "metadata": {
    "scrolled": true
   },
   "outputs": [
    {
     "name": "stdout",
     "output_type": "stream",
     "text": [
      "----- Hey! -----\n",
      "Stimulus 4\n",
      "in dataset w\n",
      "was categorized as PALM\n",
      "with probability 0.62\n"
     ]
    },
    {
     "data": {
      "image/png": "[encoded data removed]",
      "text/plain": [
       "<Figure size 432x288 with 1 Axes>"
      ]
     },
     "metadata": {},
     "output_type": "display_data"
    }
   ],
   "source": [
    "# unpack variables\n",
    "contcat = list(continuum_is.keys())[0]\n",
    "start = continuum_is[contcat][0]\n",
    "end = continuum_is[contcat][1]\n",
    "groupingcat = list(grouping.keys())[0]\n",
    "labellist = grouping[groupingcat]\n",
    "\n",
    "datsumm = datasummary(excloud, ['type','vowel'], dimslist)\n",
    "datalist = []\n",
    "\n",
    "for l in labellist:\n",
    "    # get start and end rows\n",
    "    strt = {contcat : start, groupingcat : l}\n",
    "    nd = {contcat : end, groupingcat : l}\n",
    "    # make continuum\n",
    "    cnt = continuum(datsumm, strt, nd, dimslist, steps = steps)\n",
    "    # make choices\n",
    "    chs = multicat(cnt, excloud, catslist, dimsvals, cval,\n",
    "                  exclude_self = True, N = 1, fc = None)\n",
    "    datalist.append(chs)\n",
    "\n",
    "p = cpplot(datalist = datalist,\n",
    "           cat = \"vowel\",\n",
    "           xax = \"step\",\n",
    "           datanames = labellist)\n",
    "p.set(title = \"Results of simulated forced choice task\")\n",
    "plt.show()"
   ]
  },
  {
   "cell_type": "markdown",
   "id": "909807cd",
   "metadata": {},
   "source": [
    "### And let's visualize the continua for good measure "
   ]
  },
  {
   "cell_type": "code",
   "execution_count": 29,
   "id": "592106d1",
   "metadata": {},
   "outputs": [
    {
     "data": {
      "image/png": "[encoded data removed]",
      "text/plain": [
       "<Figure size 432x288 with 1 Axes>"
      ]
     },
     "metadata": {},
     "output_type": "display_data"
    }
   ],
   "source": [
    "labix = 0\n",
    "for d in datalist:\n",
    "    # get the name of the dataset\n",
    "    lab = labellist[labix]\n",
    "    pl = sns.scatterplot(x = 'z2', y = 'z1', data = d, label = lab)\n",
    "    # Label points\n",
    "    for line, row in d.iterrows():\n",
    "        pl.text(d['z2'][line]+0.1, d['z1'][line], d['step'][line])\n",
    "    labix += 1\n",
    "pl.invert_yaxis()\n",
    "pl.invert_xaxis()\n",
    "plt.title(\"Continua by speaker type, formant values in Bark\")\n",
    "plt.show()"
   ]
  }
 ],
 "metadata": {
  "kernelspec": {
   "display_name": "Python 3 (ipykernel)",
   "language": "python",
   "name": "python3"
  },
  "language_info": {
   "codemirror_mode": {
    "name": "ipython",
    "version": 3
   },
   "file_extension": ".py",
   "mimetype": "text/x-python",
   "name": "python",
   "nbconvert_exporter": "python",
   "pygments_lexer": "ipython3",
   "version": "3.9.12"
  }
 },
 "nbformat": 4,
 "nbformat_minor": 5
}
