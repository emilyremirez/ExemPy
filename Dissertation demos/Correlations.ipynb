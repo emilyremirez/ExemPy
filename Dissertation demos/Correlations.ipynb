{
 "cells": [
  {
   "cell_type": "markdown",
   "id": "b82cb052",
   "metadata": {},
   "source": [
    "# Correlations\n"
   ]
  },
  {
   "cell_type": "code",
   "execution_count": 12,
   "id": "ea1237b7",
   "metadata": {},
   "outputs": [
    {
     "name": "stdout",
     "output_type": "stream",
     "text": [
      "The autoreload extension is already loaded. To reload it, use:\n",
      "  %reload_ext autoreload\n"
     ]
    }
   ],
   "source": [
    "%load_ext autoreload\n",
    "from ExemPy import *\n",
    "from ExemPy.utils import *\n",
    "from ExemPy.viz import *\n",
    "from ExemPy.GCM import *\n",
    "%aimport ExemPy, ExemPy.utils, ExemPy.viz, ExemPy.GCM\n",
    "%autoreload 1\n",
    "import math\n",
    "import random\n",
    "import matplotlib.pyplot as plt\n",
    "#%matplotlib inline\n",
    "import numpy as np\n",
    "import pandas as pd\n",
    "from pandas import DataFrame\n",
    "from scipy.optimize import minimize\n",
    "import seaborn as sns\n",
    "sns.set(style='ticks', context='paper')\n",
    "colors=[\"#e3c934\",\"#68c4bf\",\"#c51000\",\"#287271\"]\n",
    "sns.set_palette(colors)"
   ]
  },
  {
   "cell_type": "code",
   "execution_count": 13,
   "id": "1d283ada",
   "metadata": {},
   "outputs": [
    {
     "data": {
      "text/html": [
       "<div>\n",
       "<style scoped>\n",
       "    .dataframe tbody tr th:only-of-type {\n",
       "        vertical-align: middle;\n",
       "    }\n",
       "\n",
       "    .dataframe tbody tr th {\n",
       "        vertical-align: top;\n",
       "    }\n",
       "\n",
       "    .dataframe thead th {\n",
       "        text-align: right;\n",
       "    }\n",
       "</style>\n",
       "<table border=\"1\" class=\"dataframe\">\n",
       "  <thead>\n",
       "    <tr style=\"text-align: right;\">\n",
       "      <th></th>\n",
       "      <th>type</th>\n",
       "      <th>gender</th>\n",
       "      <th>speaker</th>\n",
       "      <th>vowel</th>\n",
       "      <th>repetition</th>\n",
       "      <th>F0</th>\n",
       "      <th>F1</th>\n",
       "      <th>F2</th>\n",
       "      <th>F3</th>\n",
       "      <th>z0</th>\n",
       "      <th>z1</th>\n",
       "      <th>z2</th>\n",
       "      <th>z3</th>\n",
       "    </tr>\n",
       "  </thead>\n",
       "  <tbody>\n",
       "    <tr>\n",
       "      <th>362</th>\n",
       "      <td>m</td>\n",
       "      <td>m</td>\n",
       "      <td>19</td>\n",
       "      <td>KIT</td>\n",
       "      <td>1</td>\n",
       "      <td>132</td>\n",
       "      <td>370</td>\n",
       "      <td>1750</td>\n",
       "      <td>2700</td>\n",
       "      <td>1.161644</td>\n",
       "      <td>3.727382</td>\n",
       "      <td>12.116226</td>\n",
       "      <td>15.003691</td>\n",
       "    </tr>\n",
       "    <tr>\n",
       "      <th>1458</th>\n",
       "      <td>c</td>\n",
       "      <td>f</td>\n",
       "      <td>73</td>\n",
       "      <td>NURSE</td>\n",
       "      <td>1</td>\n",
       "      <td>300</td>\n",
       "      <td>540</td>\n",
       "      <td>1770</td>\n",
       "      <td>2040</td>\n",
       "      <td>3.028850</td>\n",
       "      <td>5.260960</td>\n",
       "      <td>12.192172</td>\n",
       "      <td>13.143100</td>\n",
       "    </tr>\n",
       "    <tr>\n",
       "      <th>289</th>\n",
       "      <td>m</td>\n",
       "      <td>m</td>\n",
       "      <td>15</td>\n",
       "      <td>STRUT</td>\n",
       "      <td>2</td>\n",
       "      <td>110</td>\n",
       "      <td>660</td>\n",
       "      <td>960</td>\n",
       "      <td>2450</td>\n",
       "      <td>0.894686</td>\n",
       "      <td>6.223664</td>\n",
       "      <td>8.284247</td>\n",
       "      <td>14.364444</td>\n",
       "    </tr>\n",
       "    <tr>\n",
       "      <th>454</th>\n",
       "      <td>m</td>\n",
       "      <td>m</td>\n",
       "      <td>23</td>\n",
       "      <td>FOOT</td>\n",
       "      <td>1</td>\n",
       "      <td>125</td>\n",
       "      <td>390</td>\n",
       "      <td>900</td>\n",
       "      <td>2100</td>\n",
       "      <td>1.077314</td>\n",
       "      <td>3.919319</td>\n",
       "      <td>7.906713</td>\n",
       "      <td>13.337241</td>\n",
       "    </tr>\n",
       "    <tr>\n",
       "      <th>417</th>\n",
       "      <td>m</td>\n",
       "      <td>m</td>\n",
       "      <td>21</td>\n",
       "      <td>GOOSE</td>\n",
       "      <td>2</td>\n",
       "      <td>145</td>\n",
       "      <td>290</td>\n",
       "      <td>1000</td>\n",
       "      <td>2300</td>\n",
       "      <td>1.316770</td>\n",
       "      <td>2.925511</td>\n",
       "      <td>8.527432</td>\n",
       "      <td>13.944883</td>\n",
       "    </tr>\n",
       "  </tbody>\n",
       "</table>\n",
       "</div>"
      ],
      "text/plain": [
       "     type gender  speaker  vowel  repetition   F0   F1    F2    F3        z0  \\\n",
       "362     m      m       19    KIT           1  132  370  1750  2700  1.161644   \n",
       "1458    c      f       73  NURSE           1  300  540  1770  2040  3.028850   \n",
       "289     m      m       15  STRUT           2  110  660   960  2450  0.894686   \n",
       "454     m      m       23   FOOT           1  125  390   900  2100  1.077314   \n",
       "417     m      m       21  GOOSE           2  145  290  1000  2300  1.316770   \n",
       "\n",
       "            z1         z2         z3  \n",
       "362   3.727382  12.116226  15.003691  \n",
       "1458  5.260960  12.192172  13.143100  \n",
       "289   6.223664   8.284247  14.364444  \n",
       "454   3.919319   7.906713  13.337241  \n",
       "417   2.925511   8.527432  13.944883  "
      ]
     },
     "execution_count": 13,
     "metadata": {},
     "output_type": "execute_result"
    }
   ],
   "source": [
    "# Read in data and confusion matrix\n",
    "pb52 = pd.read_csv('pb52_data//pb52.csv')\n",
    "pbcm = pd.read_csv('pb52_data//pbcm.csv').drop([0]).set_index(\n",
    "    'vowelChoice').rename_axis(None)\n",
    "pb52 = HzToBark(pb52, [\"F0\", \"F1\", \"F2\", \"F3\"])\n",
    "pb52.sample(5)"
   ]
  },
  {
   "cell_type": "code",
   "execution_count": 14,
   "id": "0540197f",
   "metadata": {},
   "outputs": [],
   "source": [
    "# Set parameters\n",
    "catslist = [\"type\", \"vowel\"]\n",
    "cval = 25\n",
    "exemplars = pb52\n",
    "test = pb52"
   ]
  },
  {
   "cell_type": "code",
   "execution_count": 15,
   "id": "67373638",
   "metadata": {},
   "outputs": [],
   "source": [
    "dims1 = {'z0' : 1,\n",
    "         'z1' : 3.585,\n",
    "         'z2' : 2.246,\n",
    "         'z3' : 2.736}\n",
    "\n",
    "dims2 = {'z0' : 1,\n",
    "         'z1' : 2.72,\n",
    "         'z2' : 1.322,\n",
    "         'z3' : 0.882}\n",
    "\n",
    "dims3 = {'z0' : 1,\n",
    "         'z1' : 1.589,\n",
    "         'z2' : 0.586,\n",
    "         'z3' : 0.55}\n",
    "\n",
    "dims4 = {'z0' : 1,\n",
    "         'z1' : 2.534,\n",
    "         'z2' : 1.891,\n",
    "         'z3' : 1.784}\n",
    "\n",
    "dims5 = {'z0' : 1,\n",
    "         'z1' : 1.685,\n",
    "         'z2' : 1.59,\n",
    "         'z3' : 1.162}"
   ]
  },
  {
   "cell_type": "code",
   "execution_count": 16,
   "id": "5116764d",
   "metadata": {},
   "outputs": [],
   "source": [
    "weightslist = [dims1, dims2, dims3, dims4, dims5]"
   ]
  },
  {
   "cell_type": "markdown",
   "id": "3ded5149",
   "metadata": {},
   "source": [
    "### Next, let's categorize!\n",
    "This may take a minute!"
   ]
  },
  {
   "cell_type": "code",
   "execution_count": 17,
   "id": "e72e21c1",
   "metadata": {},
   "outputs": [],
   "source": [
    "# Flatten the confusion matrix for comparison\n",
    "pbflat = pd.Series(pbcm.stack(), name = \"PB\")"
   ]
  },
  {
   "cell_type": "code",
   "execution_count": 18,
   "id": "b16d47b8",
   "metadata": {},
   "outputs": [
    {
     "name": "stdout",
     "output_type": "stream",
     "text": [
      "trial rms PB r PB rms HG r HG\n",
      "1 0.073 0.964 0.073 0.964\n",
      "2 0.075 0.964 0.075 0.964\n",
      "3 0.074 0.966 0.074 0.966\n",
      "4 0.073 0.965 0.073 0.965\n",
      "5 0.075 0.966 0.075 0.966\n"
     ]
    }
   ],
   "source": [
    "i = 1\n",
    "rowlist=[]\n",
    "\n",
    "print(\"trial\", \"rms PB\", \"r PB\", \"rms HG\", \"r HG\")\n",
    "for w in weightslist:\n",
    "    choices = multicat(\n",
    "        testset = test,\n",
    "        cloud = exemplars,\n",
    "        cats = catslist,\n",
    "        dimsdict = w,\n",
    "        c = cval,\n",
    "        N = 1,\n",
    "        exclude_self = True)\n",
    "    \n",
    "    cm = confusion(choices, catslist)['vowel']\n",
    "    flat = pd.Series(cm.stack(), name = \"GCM\")\n",
    "    matrices = pd.concat([pbflat, flat], axis=1)\n",
    "    matrices.replace(0, np.nan)\n",
    "    \n",
    "    rms = (((matrices.PB-matrices.GCM) ** 2).mean()) ** .5\n",
    "    r = matrices['PB'].corr(matrices['GCM'])\n",
    "    \n",
    "    matrices2 = pd.concat([hgflat, flat], axis=1)\n",
    "    matrices2.replace(0, np.nan)\n",
    "    \n",
    "    rms2 = (((matrices2.HG-matrices2.GCM) ** 2).mean()) ** .5\n",
    "    r2 = matrices2['HG'].corr(matrices2['GCM'])\n",
    "    \n",
    "    print(i, np.round(rms,3), np.round(r,3), np.round(rms2,3), np.round(r2,3))\n",
    "\n",
    "    i += 1"
   ]
  }
 ],
 "metadata": {
  "kernelspec": {
   "display_name": "Python 3 (ipykernel)",
   "language": "python",
   "name": "python3"
  },
  "language_info": {
   "codemirror_mode": {
    "name": "ipython",
    "version": 3
   },
   "file_extension": ".py",
   "mimetype": "text/x-python",
   "name": "python",
   "nbconvert_exporter": "python",
   "pygments_lexer": "ipython3",
   "version": "3.9.12"
  }
 },
 "nbformat": 4,
 "nbformat_minor": 5
}
